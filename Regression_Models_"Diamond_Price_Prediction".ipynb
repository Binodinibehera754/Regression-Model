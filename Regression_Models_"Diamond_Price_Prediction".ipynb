{
  "metadata": {
    "kernelspec": {
      "language": "python",
      "display_name": "Python 3",
      "name": "python3"
    },
    "language_info": {
      "name": "python",
      "version": "3.7.12",
      "mimetype": "text/x-python",
      "codemirror_mode": {
        "name": "ipython",
        "version": 3
      },
      "pygments_lexer": "ipython3",
      "nbconvert_exporter": "python",
      "file_extension": ".py"
    },
    "kaggle": {
      "accelerator": "none",
      "dataSources": [
        {
          "sourceId": 2368,
          "sourceType": "datasetVersion",
          "datasetId": 1312
        }
      ],
      "dockerImageVersionId": 30178,
      "isInternetEnabled": true,
      "language": "python",
      "sourceType": "notebook",
      "isGpuEnabled": false
    },
    "colab": {
      "name": "Regression Models - \"Diamond Price Prediction\"",
      "provenance": [],
      "include_colab_link": true
    }
  },
  "nbformat_minor": 0,
  "nbformat": 4,
  "cells": [
    {
      "cell_type": "markdown",
      "metadata": {
        "id": "view-in-github",
        "colab_type": "text"
      },
      "source": [
        "<a href=\"https://colab.research.google.com/github/Binodinibehera754/Regression-Model/blob/main/Regression_Models_%22Diamond_Price_Prediction%22.ipynb\" target=\"_parent\"><img src=\"https://colab.research.google.com/assets/colab-badge.svg\" alt=\"Open In Colab\"/></a>"
      ]
    },
    {
      "source": [
        "# IMPORTANT: RUN THIS CELL IN ORDER TO IMPORT YOUR KAGGLE DATA SOURCES,\n",
        "# THEN FEEL FREE TO DELETE THIS CELL.\n",
        "# NOTE: THIS NOTEBOOK ENVIRONMENT DIFFERS FROM KAGGLE'S PYTHON\n",
        "# ENVIRONMENT SO THERE MAY BE MISSING LIBRARIES USED BY YOUR\n",
        "# NOTEBOOK.\n",
        "import kagglehub\n",
        "shivam2503_diamonds_path = kagglehub.dataset_download('shivam2503/diamonds')\n",
        "\n",
        "print('Data source import complete.')"
      ],
      "metadata": {
        "id": "Gfle49keZLpn"
      },
      "cell_type": "code",
      "outputs": [],
      "execution_count": null
    },
    {
      "cell_type": "code",
      "source": [
        "# This Python 3 environment comes with many helpful analytics libraries installed\n",
        "# It is defined by the kaggle/python Docker image: https://github.com/kaggle/docker-python\n",
        "# For example, here's several helpful packages to load\n",
        "\n",
        "import numpy as np # linear algebra\n",
        "import pandas as pd # data processing, CSV file I/O (e.g. pd.read_csv)\n",
        "\n",
        "# Input data files are available in the read-only \"../input/\" directory\n",
        "# For example, running this (by clicking run or pressing Shift+Enter) will list all files under the input directory\n",
        "\n",
        "import os\n",
        "for dirname, _, filenames in os.walk('/kaggle/input'):\n",
        "    for filename in filenames:\n",
        "        print(os.path.join(dirname, filename))\n",
        "\n",
        "# You can write up to 20GB to the current directory (/kaggle/working/) that gets preserved as output when you create a version using \"Save & Run All\"\n",
        "# You can also write temporary files to /kaggle/temp/, but they won't be saved outside of the current session"
      ],
      "metadata": {
        "_uuid": "8f2839f25d086af736a60e9eeb907d3b93b6e0e5",
        "_cell_guid": "b1076dfc-b9ad-4769-8c92-a6c4dae69d19",
        "execution": {
          "iopub.status.busy": "2022-04-24T04:57:23.539794Z",
          "iopub.execute_input": "2022-04-24T04:57:23.540227Z",
          "iopub.status.idle": "2022-04-24T04:57:23.582053Z",
          "shell.execute_reply.started": "2022-04-24T04:57:23.540111Z",
          "shell.execute_reply": "2022-04-24T04:57:23.581015Z"
        },
        "trusted": true,
        "id": "jfWfrH-gZLp6"
      },
      "outputs": [],
      "execution_count": null
    },
    {
      "cell_type": "code",
      "source": [],
      "metadata": {
        "trusted": true,
        "id": "onHRVU8kZLp-"
      },
      "outputs": [],
      "execution_count": null
    },
    {
      "cell_type": "markdown",
      "source": [
        " # <h1 style='background:#682F2F; border:2; border-radius: 10px; font-size:250%; font-weight: bold; color:white'><center>DIAMOND PRICE PREDICTION: REGRESSION</center></h1>\n",
        "\n",
        "![Notebook 2 start.jpg](attachment:3d4a7ecb-21c6-4b02-bc16-95465a2e4aae.jpg)\n",
        "\n",
        "<h1 style='background:#682F2F; border:0; border-radius: 10px; color:white'><center>TABLE OF CONTENTS</center></h1>\n",
        "\n",
        "### [**1. IMPORTING LIBRARIES**](#title-one)\n",
        "    \n",
        "### [**2. LOADING DATA**](#title-two)\n",
        "\n",
        "### [**3. DATA ANALYSIS**](#title-three)\n",
        "\n",
        "### [**4. DATA PREPROCESSING**](#title-four)\n",
        "\n",
        "### [**5. MODEL BUILDING**](#title-five)\n",
        "\n",
        "### [**6. END**](#title-six)"
      ],
      "metadata": {
        "id": "OmIj08cBZLqB"
      }
    },
    {
      "cell_type": "markdown",
      "source": [
        "<a id = \"title-one\"></a>\n",
        "<h1 style='background:#682F2F; border:0; border-radius: 10px; color:white'><center>IMPORTING LIBRARIES</center></h1>"
      ],
      "metadata": {
        "id": "0jdCZZ6EZLqL"
      }
    },
    {
      "cell_type": "code",
      "source": [
        "import warnings\n",
        "warnings.filterwarnings('ignore')\n",
        "\n",
        "import numpy as np\n",
        "import pandas as pd\n",
        "import matplotlib.pyplot as plt\n",
        "import seaborn as sns\n",
        "\n",
        "from sklearn.preprocessing import LabelEncoder\n",
        "from sklearn.model_selection import train_test_split\n",
        "from sklearn.preprocessing import StandardScaler\n",
        "from sklearn.pipeline import Pipeline\n",
        "\n",
        "from sklearn.linear_model import LinearRegression\n",
        "from sklearn. linear_model import Lasso\n",
        "from sklearn.tree import DecisionTreeRegressor\n",
        "from sklearn.ensemble import RandomForestRegressor\n",
        "from sklearn.neighbors import KNeighborsRegressor\n",
        "from xgboost import XGBRegressor\n",
        "\n",
        "from sklearn.model_selection import cross_val_score\n",
        "from sklearn.metrics import mean_squared_error\n",
        "from sklearn import metrics"
      ],
      "metadata": {
        "execution": {
          "iopub.status.busy": "2025-02-23T01:17:56.9762Z",
          "iopub.execute_input": "2025-02-23T01:17:56.976519Z",
          "iopub.status.idle": "2025-02-23T01:17:56.983783Z",
          "shell.execute_reply.started": "2025-02-23T01:17:56.976487Z",
          "shell.execute_reply": "2025-02-23T01:17:56.982875Z"
        },
        "trusted": true,
        "id": "oKORiHIVZLqO"
      },
      "outputs": [],
      "execution_count": null
    },
    {
      "cell_type": "markdown",
      "source": [
        "<a id = \"title-two\"></a>\n",
        "<h1 style='background:#682F2F; border:0; border-radius: 10px; color:white'><center>LOADING DATA</center></h1>\n"
      ],
      "metadata": {
        "id": "hByfbvdWZLqS"
      }
    },
    {
      "cell_type": "code",
      "source": [
        "data_df = pd.read_csv(\"../input/diamonds/diamonds.csv\")\n",
        "data_df.sample(10)"
      ],
      "metadata": {
        "execution": {
          "iopub.status.busy": "2025-02-23T01:18:15.076044Z",
          "iopub.execute_input": "2025-02-23T01:18:15.077189Z",
          "iopub.status.idle": "2025-02-23T01:18:15.242234Z",
          "shell.execute_reply.started": "2025-02-23T01:18:15.077147Z",
          "shell.execute_reply": "2025-02-23T01:18:15.241268Z"
        },
        "trusted": true,
        "id": "XTyeA7ktZLqW",
        "outputId": "d48fef8c-bc7c-44f9-e800-47c666cdb537"
      },
      "outputs": [
        {
          "execution_count": 4,
          "output_type": "execute_result",
          "data": {
            "text/plain": "       Unnamed: 0  carat        cut color clarity  depth  table  price     x  \\\n25172       25173   1.51  Very Good     E     VS2   63.3   61.0  13757  7.24   \n40197       40198   0.52      Ideal     F     SI2   61.5   55.0   1121  5.17   \n32943       32944   0.34    Premium     I     SI1   60.0   58.0    459  4.51   \n14400       14401   1.01       Good     F     VS2   63.1   59.0   5817  6.31   \n27880       27881   0.39      Ideal     H     SI1   61.9   55.7    654  4.66   \n12543       12544   1.23    Premium     I     SI2   62.4   58.0   5269  6.86   \n37566       37567   0.34      Ideal     H      IF   60.8   56.0    988  4.56   \n41987       41988   0.43    Premium     G    VVS1   60.3   58.0   1264  4.91   \n49238       49239   0.64      Ideal     H    VVS1   61.1   55.0   2084  5.58   \n19477       19478   1.05    Premium     F     VS1   62.3   55.0   8114  6.57   \n\n          y     z  \n25172  7.17  4.56  \n40197  5.20  3.19  \n32943  4.55  2.72  \n14400  6.37  4.00  \n27880  4.71  2.90  \n12543  6.82  4.27  \n37566  4.55  2.77  \n41987  4.87  2.95  \n49238  5.61  3.43  \n19477  6.49  4.07  ",
            "text/html": "<div>\n<style scoped>\n    .dataframe tbody tr th:only-of-type {\n        vertical-align: middle;\n    }\n\n    .dataframe tbody tr th {\n        vertical-align: top;\n    }\n\n    .dataframe thead th {\n        text-align: right;\n    }\n</style>\n<table border=\"1\" class=\"dataframe\">\n  <thead>\n    <tr style=\"text-align: right;\">\n      <th></th>\n      <th>Unnamed: 0</th>\n      <th>carat</th>\n      <th>cut</th>\n      <th>color</th>\n      <th>clarity</th>\n      <th>depth</th>\n      <th>table</th>\n      <th>price</th>\n      <th>x</th>\n      <th>y</th>\n      <th>z</th>\n    </tr>\n  </thead>\n  <tbody>\n    <tr>\n      <th>25172</th>\n      <td>25173</td>\n      <td>1.51</td>\n      <td>Very Good</td>\n      <td>E</td>\n      <td>VS2</td>\n      <td>63.3</td>\n      <td>61.0</td>\n      <td>13757</td>\n      <td>7.24</td>\n      <td>7.17</td>\n      <td>4.56</td>\n    </tr>\n    <tr>\n      <th>40197</th>\n      <td>40198</td>\n      <td>0.52</td>\n      <td>Ideal</td>\n      <td>F</td>\n      <td>SI2</td>\n      <td>61.5</td>\n      <td>55.0</td>\n      <td>1121</td>\n      <td>5.17</td>\n      <td>5.20</td>\n      <td>3.19</td>\n    </tr>\n    <tr>\n      <th>32943</th>\n      <td>32944</td>\n      <td>0.34</td>\n      <td>Premium</td>\n      <td>I</td>\n      <td>SI1</td>\n      <td>60.0</td>\n      <td>58.0</td>\n      <td>459</td>\n      <td>4.51</td>\n      <td>4.55</td>\n      <td>2.72</td>\n    </tr>\n    <tr>\n      <th>14400</th>\n      <td>14401</td>\n      <td>1.01</td>\n      <td>Good</td>\n      <td>F</td>\n      <td>VS2</td>\n      <td>63.1</td>\n      <td>59.0</td>\n      <td>5817</td>\n      <td>6.31</td>\n      <td>6.37</td>\n      <td>4.00</td>\n    </tr>\n    <tr>\n      <th>27880</th>\n      <td>27881</td>\n      <td>0.39</td>\n      <td>Ideal</td>\n      <td>H</td>\n      <td>SI1</td>\n      <td>61.9</td>\n      <td>55.7</td>\n      <td>654</td>\n      <td>4.66</td>\n      <td>4.71</td>\n      <td>2.90</td>\n    </tr>\n    <tr>\n      <th>12543</th>\n      <td>12544</td>\n      <td>1.23</td>\n      <td>Premium</td>\n      <td>I</td>\n      <td>SI2</td>\n      <td>62.4</td>\n      <td>58.0</td>\n      <td>5269</td>\n      <td>6.86</td>\n      <td>6.82</td>\n      <td>4.27</td>\n    </tr>\n    <tr>\n      <th>37566</th>\n      <td>37567</td>\n      <td>0.34</td>\n      <td>Ideal</td>\n      <td>H</td>\n      <td>IF</td>\n      <td>60.8</td>\n      <td>56.0</td>\n      <td>988</td>\n      <td>4.56</td>\n      <td>4.55</td>\n      <td>2.77</td>\n    </tr>\n    <tr>\n      <th>41987</th>\n      <td>41988</td>\n      <td>0.43</td>\n      <td>Premium</td>\n      <td>G</td>\n      <td>VVS1</td>\n      <td>60.3</td>\n      <td>58.0</td>\n      <td>1264</td>\n      <td>4.91</td>\n      <td>4.87</td>\n      <td>2.95</td>\n    </tr>\n    <tr>\n      <th>49238</th>\n      <td>49239</td>\n      <td>0.64</td>\n      <td>Ideal</td>\n      <td>H</td>\n      <td>VVS1</td>\n      <td>61.1</td>\n      <td>55.0</td>\n      <td>2084</td>\n      <td>5.58</td>\n      <td>5.61</td>\n      <td>3.43</td>\n    </tr>\n    <tr>\n      <th>19477</th>\n      <td>19478</td>\n      <td>1.05</td>\n      <td>Premium</td>\n      <td>F</td>\n      <td>VS1</td>\n      <td>62.3</td>\n      <td>55.0</td>\n      <td>8114</td>\n      <td>6.57</td>\n      <td>6.49</td>\n      <td>4.07</td>\n    </tr>\n  </tbody>\n</table>\n</div>"
          },
          "metadata": {}
        }
      ],
      "execution_count": null
    },
    {
      "cell_type": "markdown",
      "source": [
        "# **<span style=\"color:#682F2F;\"><center>LABELLED DIMENSIONS OF A DIAMOND</center></span>**\n",
        "\n",
        "![Diamond anatomy.jpg](attachment:d217a1de-e1c5-4c73-8795-7bdfe8545fd2.jpg)\n",
        "\n",
        "<div style=\"border-radius:10px;\n",
        "            border : #682F2F solid;\n",
        "            background-color:#FFF8DC;\n",
        "           font-size:110%;\n",
        "            text-align: left\">\n",
        "    \n",
        "## <h2 style='border:0; color:#682F2F'><center>About the data (Description of attributes)</center></h2>\n",
        "\n",
        "**This classic dataset contains the prices and other attributes of almost 54,000 diamonds. There are 10 attributes included in the dataset including the target ie. price.**\n",
        "\n",
        "* **carat (0.2-5.01):** The carat is the diamond’s physical weight measured in metric carats. One carat equals 0.20 gram and is subdivided into 100 points.\n",
        "* **cut (Fair, Good, Very Good, Premium, Ideal):** The quality of the cut. The more precise the diamond is cut, the more captivating the diamond is to the eye thus of high grade.\n",
        "* **color (from J (worst) to D (best)):** The colour of gem-quality diamonds occurs in many hues. In the range from colourless to light yellow or light brown. Colourless diamonds are the rarest. Other natural colours (blue, red, pink for example) are known as \"fancy,” and their colour grading is different than from white colorless diamonds.\n",
        "* **clarity (I1 (worst), SI2, SI1, VS2, VS1, VVS2, VVS1, IF (best)):** Diamonds can have internal characteristics known as inclusions or external characteristics known as blemishes. Diamonds without inclusions or blemishes are rare; however, most characteristics can only be seen with magnification.\n",
        "* **depth (43-79)**: It is the total depth percentage which equals to z / mean(x, y) = 2 * z / (x + y). The depth of the diamond is its height (in millimetres) measured from the culet (bottom tip) to the table (flat, top surface) as referred in the labelled diagram above.\n",
        "* **table (43-95):** It is the width of the top of the diamond relative to widest point. It gives diamond stunning fire and brilliance by reflecting lights to all directions which when seen by an observer, seems lustrous.\n",
        "* **price ($$326 - $18826):** It is the price of the diamond in US dollars. **It is our very target column in the dataset.**\n",
        "* **x (0 - 10.74):** Length of the diamond (in mm)\n",
        "* **y (0 - 58.9):** Width of the diamond (in mm)\n",
        "* **z (0 - 31.8):** Depth of the diamond (in mm)"
      ],
      "metadata": {
        "id": "9YeaHUFqZLqd"
      }
    },
    {
      "cell_type": "markdown",
      "source": [
        "<a id = \"title-three\"></a>\n",
        "<h1 style='background: #682F2F; border:0; border-radius: 10px; color:white'><center>DATA ANALYSIS</center></h1>"
      ],
      "metadata": {
        "id": "iiBEf8DTZLqg"
      }
    },
    {
      "cell_type": "markdown",
      "source": [
        "### **<span style=\"color:#682F2F;\"><center>Checking for missing values & categorical variables</center></span>**"
      ],
      "metadata": {
        "id": "s-9P2IS1ZLqi"
      }
    },
    {
      "cell_type": "code",
      "source": [
        "# Checking for missing values and categorical variables in the dataset\n",
        "data_df.info()"
      ],
      "metadata": {
        "_kg_hide-input": false,
        "execution": {
          "iopub.status.busy": "2022-04-24T04:57:53.539708Z",
          "iopub.execute_input": "2022-04-24T04:57:53.540046Z",
          "iopub.status.idle": "2022-04-24T04:57:53.586568Z",
          "shell.execute_reply.started": "2022-04-24T04:57:53.540013Z",
          "shell.execute_reply": "2022-04-24T04:57:53.585591Z"
        },
        "trusted": true,
        "id": "gUstqiwaZLqk"
      },
      "outputs": [],
      "execution_count": null
    },
    {
      "cell_type": "markdown",
      "source": [
        "### **<span style=\"color:#682F2F;\">Note: </span>**\n",
        "##### There are 53940 non-null values in all the attributes thus no missing values.\n",
        "##### Datatype of features 'cut', 'color' & 'clarity' is \"object\" which needs to be converted into numerical variable (will be done in data preprocessing) before we feed the data to algorithms."
      ],
      "metadata": {
        "id": "jQsnMyWQZLqm"
      }
    },
    {
      "cell_type": "markdown",
      "source": [
        "### **<span style=\"color:#682F2F;\"><center>Evaluating categorical features</center></span>**"
      ],
      "metadata": {
        "id": "kXYEg2PPZLqo"
      }
    },
    {
      "cell_type": "code",
      "source": [
        "plt.figure(figsize=(10,8))\n",
        "cols = [\"#A0522D\",\"#A52A2A\",\"#CD853F\",\"#F4A460\",\"#DEB887\"]\n",
        "ax = sns.violinplot(x=\"cut\",y=\"price\", data=data_df, palette=cols,scale= \"count\")\n",
        "ax.set_title(\"Diamond Cut for Price\", color=\"#774571\", fontsize = 20)\n",
        "ax.set_ylabel(\"Price\", color=\"#4e4c39\", fontsize = 15)\n",
        "ax.set_xlabel(\"Cut\", color=\"#4e4c39\", fontsize = 15)\n",
        "plt.show()"
      ],
      "metadata": {
        "execution": {
          "iopub.status.busy": "2022-04-24T04:58:10.673476Z",
          "iopub.execute_input": "2022-04-24T04:58:10.673959Z",
          "iopub.status.idle": "2022-04-24T04:58:11.256276Z",
          "shell.execute_reply.started": "2022-04-24T04:58:10.673917Z",
          "shell.execute_reply": "2022-04-24T04:58:11.25499Z"
        },
        "trusted": true,
        "id": "OVCKB74LZLqp"
      },
      "outputs": [],
      "execution_count": null
    },
    {
      "cell_type": "code",
      "source": [
        "plt.figure(figsize=(12,8))\n",
        "ax = sns.violinplot(x=\"color\",y=\"price\", data=data_df, palette=cols,scale= \"count\")\n",
        "ax.set_title(\"Diamond Colors for Price\", color=\"#774571\", fontsize = 20)\n",
        "ax.set_ylabel(\"Price\", color=\"#4e4c39\", fontsize = 15)\n",
        "ax.set_xlabel(\"Color\", color=\"#4e4c39\", fontsize = 15)\n",
        "plt.show()"
      ],
      "metadata": {
        "execution": {
          "iopub.status.busy": "2022-04-24T04:58:17.420331Z",
          "iopub.execute_input": "2022-04-24T04:58:17.420675Z",
          "iopub.status.idle": "2022-04-24T04:58:17.935589Z",
          "shell.execute_reply.started": "2022-04-24T04:58:17.420638Z",
          "shell.execute_reply": "2022-04-24T04:58:17.934569Z"
        },
        "trusted": true,
        "id": "EnGvd2Z4ZLqr"
      },
      "outputs": [],
      "execution_count": null
    },
    {
      "cell_type": "code",
      "source": [
        "plt.figure(figsize=(13,8))\n",
        "ax = sns.violinplot(x=\"clarity\",y=\"price\", data=data_df, palette=cols,scale= \"count\")\n",
        "ax.set_title(\"Diamond Clarity for Price\", color=\"#774571\", fontsize = 20)\n",
        "ax.set_ylabel(\"Price\", color=\"#4e4c39\", fontsize = 15)\n",
        "ax.set_xlabel(\"Clarity\", color=\"#4e4c39\", fontsize = 15)\n",
        "plt.show()"
      ],
      "metadata": {
        "execution": {
          "iopub.status.busy": "2022-04-24T04:58:22.182706Z",
          "iopub.execute_input": "2022-04-24T04:58:22.183095Z",
          "iopub.status.idle": "2022-04-24T04:58:22.758776Z",
          "shell.execute_reply.started": "2022-04-24T04:58:22.183055Z",
          "shell.execute_reply": "2022-04-24T04:58:22.757821Z"
        },
        "trusted": true,
        "id": "KekXYSIZZLqs"
      },
      "outputs": [],
      "execution_count": null
    },
    {
      "cell_type": "markdown",
      "source": [
        "### **<span style=\"color:#682F2F;\">Note: </span>**\n",
        "##### \"Ideal\" diamond cuts are the most in the number while the \"Fair\" is the least. More diamonds of all of such cuts for lower price category.\n",
        "##### \"J\" color diamond which is worst are most rare however, \"H\" and \"G\" are more in number eventhough they're of inferior quality as well.\n",
        "##### Diamonds of \"IF\" clarity which is best as well as \"I1\" which is worst are very rare and rest are mostly of in-between clarities."
      ],
      "metadata": {
        "id": "9Ztptra1ZLqu"
      }
    },
    {
      "cell_type": "markdown",
      "source": [
        "### **<span style=\"color:#682F2F;\"><center>Descriptive Statistics</center></span>**"
      ],
      "metadata": {
        "id": "O6Mb6qSoZLqw"
      }
    },
    {
      "cell_type": "code",
      "source": [
        "# Doing Univariate Analysis for statistical description and understanding of dispersion of data\n",
        "data_df.describe().T"
      ],
      "metadata": {
        "execution": {
          "iopub.status.busy": "2022-04-24T04:58:37.101266Z",
          "iopub.execute_input": "2022-04-24T04:58:37.101628Z",
          "iopub.status.idle": "2022-04-24T04:58:37.164187Z",
          "shell.execute_reply.started": "2022-04-24T04:58:37.101595Z",
          "shell.execute_reply": "2022-04-24T04:58:37.163607Z"
        },
        "trusted": true,
        "id": "Xz8ONiepZLqx"
      },
      "outputs": [],
      "execution_count": null
    },
    {
      "cell_type": "markdown",
      "source": [
        "### **<span style=\"color:#682F2F;\">Note: </span>**\n",
        "##### \"Price\" as expected is right skewed, having more number of data points in left\n",
        "##### Under dimensional features of 'x', 'y' & 'z' - min value is 0 thus making such datapoints either a 1D or 2D diamond object which doesn't make much sense - so needs either to be imputed with appropriate value or dropped altogether."
      ],
      "metadata": {
        "id": "r0iIBQeSZLqy"
      }
    },
    {
      "cell_type": "code",
      "source": [
        "#Doing Bivariate Analysis by examaning a pairplot\n",
        "ax = sns.pairplot(data_df, hue= \"cut\", palette = cols)"
      ],
      "metadata": {
        "execution": {
          "iopub.status.busy": "2022-04-24T04:58:44.54783Z",
          "iopub.execute_input": "2022-04-24T04:58:44.548919Z",
          "iopub.status.idle": "2022-04-24T05:03:01.031893Z",
          "shell.execute_reply.started": "2022-04-24T04:58:44.54885Z",
          "shell.execute_reply": "2022-04-24T05:03:01.027866Z"
        },
        "trusted": true,
        "id": "WiQ07yd2ZLq0"
      },
      "outputs": [],
      "execution_count": null
    },
    {
      "cell_type": "markdown",
      "source": [
        "### **<span style=\"color:#682F2F;\">Note: </span>**\n",
        "##### There's a useless feature \"unnamed\" which is just an index and needs to be eliminated altogether.\n",
        "##### Features are having datapoints that are far from the rest of the dataset (outliers) which needs to be dealth with or else would affect our model.\n",
        "##### \"y\" and \"z\" have some dimensional outliers in our dataset that needs to be eliminated.\n",
        "##### Features \"depth\" & \"table\" should be capped after we confirm by examining the Line plots."
      ],
      "metadata": {
        "id": "BqMrV991ZLq1"
      }
    },
    {
      "cell_type": "markdown",
      "source": [
        "### **<span style=\"color:#682F2F;\"><center>Checking for Potential Outliers</center></span>**"
      ],
      "metadata": {
        "id": "OzTsXLNEZLq3"
      }
    },
    {
      "cell_type": "code",
      "source": [
        "lm = sns.lmplot(x=\"price\", y=\"y\", data=data_df, scatter_kws={\"color\": \"#BC8F8F\"}, line_kws={\"color\": \"#8B4513\"})\n",
        "plt.title(\"Line Plot on Price vs 'y'\", color=\"#774571\", fontsize = 20)\n",
        "plt.show()"
      ],
      "metadata": {
        "execution": {
          "iopub.status.busy": "2022-04-24T05:03:31.287922Z",
          "iopub.execute_input": "2022-04-24T05:03:31.28912Z",
          "iopub.status.idle": "2022-04-24T05:03:36.445465Z",
          "shell.execute_reply.started": "2022-04-24T05:03:31.28905Z",
          "shell.execute_reply": "2022-04-24T05:03:36.444125Z"
        },
        "trusted": true,
        "id": "DNXdJtzSZLq4"
      },
      "outputs": [],
      "execution_count": null
    },
    {
      "cell_type": "code",
      "source": [
        "lm = sns.lmplot(x=\"price\", y=\"z\", data=data_df, scatter_kws={\"color\": \"#BC8F8F\"}, line_kws={\"color\": \"#8B4513\"})\n",
        "plt.title(\"Line Plot on Price vs 'z'\", color=\"#774571\", fontsize = 20)\n",
        "plt.show()"
      ],
      "metadata": {
        "execution": {
          "iopub.status.busy": "2022-04-24T05:03:41.612213Z",
          "iopub.execute_input": "2022-04-24T05:03:41.612569Z",
          "iopub.status.idle": "2022-04-24T05:03:46.577277Z",
          "shell.execute_reply.started": "2022-04-24T05:03:41.612532Z",
          "shell.execute_reply": "2022-04-24T05:03:46.575417Z"
        },
        "trusted": true,
        "id": "0LizSR8_ZLq6"
      },
      "outputs": [],
      "execution_count": null
    },
    {
      "cell_type": "code",
      "source": [
        "lm = sns.lmplot(x=\"price\", y=\"depth\", data=data_df, scatter_kws={\"color\": \"#BC8F8F\"}, line_kws={\"color\": \"#8B4513\"})\n",
        "plt.title(\"Line Plot on Price vs 'depth'\", color=\"#774571\", fontsize = 20)\n",
        "plt.show()"
      ],
      "metadata": {
        "execution": {
          "iopub.status.busy": "2022-04-24T05:03:51.260125Z",
          "iopub.execute_input": "2022-04-24T05:03:51.260484Z",
          "iopub.status.idle": "2022-04-24T05:03:56.225388Z",
          "shell.execute_reply.started": "2022-04-24T05:03:51.260446Z",
          "shell.execute_reply": "2022-04-24T05:03:56.224649Z"
        },
        "trusted": true,
        "id": "i8-RPeE0ZLq8"
      },
      "outputs": [],
      "execution_count": null
    },
    {
      "cell_type": "code",
      "source": [
        "lm = sns.lmplot(x=\"price\", y=\"table\", data=data_df, scatter_kws={\"color\": \"#BC8F8F\"}, line_kws={\"color\": \"#8B4513\"})\n",
        "plt.title(\"Line Plot on Price vs 'Table'\", color=\"#774571\", fontsize = 20)\n",
        "plt.show()"
      ],
      "metadata": {
        "execution": {
          "iopub.status.busy": "2022-04-24T05:04:01.011207Z",
          "iopub.execute_input": "2022-04-24T05:04:01.011706Z",
          "iopub.status.idle": "2022-04-24T05:04:06.521662Z",
          "shell.execute_reply.started": "2022-04-24T05:04:01.01167Z",
          "shell.execute_reply": "2022-04-24T05:04:06.520821Z"
        },
        "trusted": true,
        "id": "-iyS9KvNZLq9"
      },
      "outputs": [],
      "execution_count": null
    },
    {
      "cell_type": "markdown",
      "source": [
        "### **<span style=\"color:#682F2F;\">Note: </span>**\n",
        "##### In the Line plots of above features, we can easily spot the outliers which we'll drop before feeding the data to the algorithm."
      ],
      "metadata": {
        "id": "TviMc2QpZLq_"
      }
    },
    {
      "cell_type": "markdown",
      "source": [
        "<a id = \"title-four\"></a>\n",
        "<h1 style='background: #682F2F; border:0; border-radius: 10px; color:white'><center>DATA PREPROCESSING</center></h1>"
      ],
      "metadata": {
        "id": "VWvuWRXEZLrB"
      }
    },
    {
      "cell_type": "markdown",
      "source": [
        "### **<span style=\"color:#682F2F;\"><center>Data Cleaning</center></span>**"
      ],
      "metadata": {
        "id": "mttzCUKzZLrD"
      }
    },
    {
      "cell_type": "code",
      "source": [
        "# Removing the feature \"Unnamed\"\n",
        "data_df = data_df.drop([\"Unnamed: 0\"], axis=1)\n",
        "data_df.shape"
      ],
      "metadata": {
        "execution": {
          "iopub.status.busy": "2022-04-24T05:04:15.542801Z",
          "iopub.execute_input": "2022-04-24T05:04:15.543608Z",
          "iopub.status.idle": "2022-04-24T05:04:15.554655Z",
          "shell.execute_reply.started": "2022-04-24T05:04:15.543559Z",
          "shell.execute_reply": "2022-04-24T05:04:15.553424Z"
        },
        "trusted": true,
        "id": "hkx_VrOkZLrE"
      },
      "outputs": [],
      "execution_count": null
    },
    {
      "cell_type": "code",
      "source": [
        "# Removing the datapoints having min 0 value in either x, y or z features\n",
        "data_df = data_df.drop(data_df[data_df[\"x\"]==0].index)\n",
        "data_df = data_df.drop(data_df[data_df[\"y\"]==0].index)\n",
        "data_df = data_df.drop(data_df[data_df[\"z\"]==0].index)\n",
        "data_df.shape"
      ],
      "metadata": {
        "execution": {
          "iopub.status.busy": "2022-04-24T05:04:18.023068Z",
          "iopub.execute_input": "2022-04-24T05:04:18.02344Z",
          "iopub.status.idle": "2022-04-24T05:04:18.059875Z",
          "shell.execute_reply.started": "2022-04-24T05:04:18.023399Z",
          "shell.execute_reply": "2022-04-24T05:04:18.059021Z"
        },
        "trusted": true,
        "id": "I-TxhmXZZLrG"
      },
      "outputs": [],
      "execution_count": null
    },
    {
      "cell_type": "markdown",
      "source": [
        "### **<span style=\"color:#682F2F;\"><center>Removing Outliers</center></span>**"
      ],
      "metadata": {
        "id": "JMXuq7qvZLrI"
      }
    },
    {
      "cell_type": "code",
      "source": [
        "# Dropping the outliers (since we have huge dataset) by defining appropriate measures across features\n",
        "data_df = data_df[(data_df[\"depth\"]<75)&(data_df[\"depth\"]>45)]\n",
        "data_df = data_df[(data_df[\"table\"]<80)&(data_df[\"table\"]>40)]\n",
        "data_df = data_df[(data_df[\"x\"]<40)]\n",
        "data_df = data_df[(data_df[\"y\"]<40)]\n",
        "data_df = data_df[(data_df[\"z\"]<40)&(data_df[\"z\"]>2)]\n",
        "data_df.shape"
      ],
      "metadata": {
        "execution": {
          "iopub.status.busy": "2022-04-24T05:04:24.397951Z",
          "iopub.execute_input": "2022-04-24T05:04:24.398967Z",
          "iopub.status.idle": "2022-04-24T05:04:24.431527Z",
          "shell.execute_reply.started": "2022-04-24T05:04:24.398908Z",
          "shell.execute_reply": "2022-04-24T05:04:24.430408Z"
        },
        "trusted": true,
        "id": "imQftIzMZLrJ"
      },
      "outputs": [],
      "execution_count": null
    },
    {
      "cell_type": "markdown",
      "source": [
        "### **<span style=\"color:#682F2F;\"><center>Encoding Categorical Variables</center></span>**"
      ],
      "metadata": {
        "id": "KltC49JrZLrL"
      }
    },
    {
      "cell_type": "code",
      "source": [
        "# Making a copy to keep original data in its form intact\n",
        "data1 = data_df.copy()\n",
        "\n",
        "# Applying label encoder to columns with categorical data\n",
        "columns = ['cut','color','clarity']\n",
        "label_encoder = LabelEncoder()\n",
        "for col in columns:\n",
        "    data1[col] = label_encoder.fit_transform(data1[col])\n",
        "data1.describe()"
      ],
      "metadata": {
        "execution": {
          "iopub.status.busy": "2022-04-24T05:04:30.108541Z",
          "iopub.execute_input": "2022-04-24T05:04:30.108839Z",
          "iopub.status.idle": "2022-04-24T05:04:30.224007Z",
          "shell.execute_reply.started": "2022-04-24T05:04:30.108809Z",
          "shell.execute_reply": "2022-04-24T05:04:30.222914Z"
        },
        "trusted": true,
        "id": "4_OHI5F7ZLrM"
      },
      "outputs": [],
      "execution_count": null
    },
    {
      "cell_type": "markdown",
      "source": [
        "### **<span style=\"color:#682F2F;\">Note: </span>**\n",
        "##### As categorical features have been converted into numerical columns, we are getting 5-point summary along with count, mean & std for them as well.\n",
        "##### Now, we may analyze correlation matrix after getting done with pre-processing for possible feature selection in order to make our dataset more cleaner, optimal before we feed it into algorithm."
      ],
      "metadata": {
        "id": "FkmYydxUZLrO"
      }
    },
    {
      "cell_type": "markdown",
      "source": [
        "### **<span style=\"color:#682F2F;\"><center>Correlation Matrix</center></span>**"
      ],
      "metadata": {
        "id": "RtXGJhNMZLrQ"
      }
    },
    {
      "cell_type": "code",
      "source": [
        "# Examining correlation matrix using heatmap\n",
        "cmap = sns.diverging_palette(205, 133, 63, as_cmap=True)\n",
        "cols = ([\"#682F2F\", \"#9E726F\", \"#D6B2B1\", \"#B9C0C9\", \"#9F8A78\", \"#F3AB60\"])\n",
        "corrmat= data1.corr()\n",
        "f, ax = plt.subplots(figsize=(15,12))\n",
        "sns.heatmap(corrmat,cmap=cols,annot=True)"
      ],
      "metadata": {
        "execution": {
          "iopub.status.busy": "2022-04-24T05:04:35.115995Z",
          "iopub.execute_input": "2022-04-24T05:04:35.116275Z",
          "iopub.status.idle": "2022-04-24T05:04:35.963802Z",
          "shell.execute_reply.started": "2022-04-24T05:04:35.116247Z",
          "shell.execute_reply": "2022-04-24T05:04:35.962826Z"
        },
        "trusted": true,
        "id": "0lhh3AFYZLrp"
      },
      "outputs": [],
      "execution_count": null
    },
    {
      "cell_type": "markdown",
      "source": [
        "### **<span style=\"color:#682F2F;\">Note: </span>**\n",
        "##### Features \"carat\", \"x\", \"y\", \"z\" are highly correlated to our target variable, price.\n",
        "##### Features \"cut\", \"clarity\", \"depth\" are very low correlated (<|0.1|) thus may be removed though due to presence of only few selected features, we won't be doing that."
      ],
      "metadata": {
        "id": "c2HSrZCQZLrr"
      }
    },
    {
      "cell_type": "markdown",
      "source": [
        "<a id = \"title-five\"></a>\n",
        "<h1 style='background: #682F2F; border:0; border-radius: 10px; color:white'><center>MODEL BUILDING</center></h1>"
      ],
      "metadata": {
        "id": "VPlJTpWhZLrt"
      }
    },
    {
      "cell_type": "code",
      "source": [
        "# Defining the independent and dependent variables\n",
        "X= data1.drop([\"price\"],axis =1)\n",
        "y= data1[\"price\"]\n",
        "X_train, X_test, y_train, y_test = train_test_split(X, y,test_size=0.20, random_state=25)"
      ],
      "metadata": {
        "execution": {
          "iopub.status.busy": "2022-04-24T05:04:45.196876Z",
          "iopub.execute_input": "2022-04-24T05:04:45.19755Z",
          "iopub.status.idle": "2022-04-24T05:04:45.217521Z",
          "shell.execute_reply.started": "2022-04-24T05:04:45.197496Z",
          "shell.execute_reply": "2022-04-24T05:04:45.216715Z"
        },
        "trusted": true,
        "id": "YNBxW6NcZLrv"
      },
      "outputs": [],
      "execution_count": null
    },
    {
      "cell_type": "code",
      "source": [
        "# Building pipelins of standard scaler and model for varios regressors.\n",
        "\n",
        "pipeline_lr=Pipeline([(\"scalar1\",StandardScaler()),\n",
        "                     (\"lr\",LinearRegression())])\n",
        "\n",
        "pipeline_lasso=Pipeline([(\"scalar2\", StandardScaler()),\n",
        "                      (\"lasso\",Lasso())])\n",
        "\n",
        "pipeline_dt=Pipeline([(\"scalar3\",StandardScaler()),\n",
        "                     (\"dt\",DecisionTreeRegressor())])\n",
        "\n",
        "pipeline_rf=Pipeline([(\"scalar4\",StandardScaler()),\n",
        "                     (\"rf\",RandomForestRegressor())])\n",
        "\n",
        "\n",
        "pipeline_kn=Pipeline([(\"scalar5\",StandardScaler()),\n",
        "                     (\"kn\",KNeighborsRegressor())])\n",
        "\n",
        "\n",
        "pipeline_xgb=Pipeline([(\"scalar6\",StandardScaler()),\n",
        "                     (\"xgb\",XGBRegressor())])\n",
        "\n",
        "# List of all the pipelines\n",
        "pipelines = [pipeline_lr, pipeline_lasso, pipeline_dt, pipeline_rf, pipeline_kn, pipeline_xgb]\n",
        "\n",
        "# Dictionary of pipelines and model types for ease of reference\n",
        "pipeline_dict = {0: \"LinearRegression\", 1: \"Lasso\", 2: \"DecisionTree\", 3: \"RandomForest\",4: \"KNeighbors\", 5: \"XGBRegressor\"}\n",
        "\n",
        "# Fit the pipelines\n",
        "for pipe in pipelines:\n",
        "    pipe.fit(X_train, y_train)"
      ],
      "metadata": {
        "execution": {
          "iopub.status.busy": "2022-04-24T05:04:46.844382Z",
          "iopub.execute_input": "2022-04-24T05:04:46.844835Z",
          "iopub.status.idle": "2022-04-24T05:05:07.436784Z",
          "shell.execute_reply.started": "2022-04-24T05:04:46.844802Z",
          "shell.execute_reply": "2022-04-24T05:05:07.435705Z"
        },
        "trusted": true,
        "id": "y20eqcX-ZLrx"
      },
      "outputs": [],
      "execution_count": null
    },
    {
      "cell_type": "code",
      "source": [
        "cv_results_rms = []\n",
        "for i, model in enumerate(pipelines):\n",
        "    cv_score = cross_val_score(model, X_train,y_train,scoring=\"neg_root_mean_squared_error\", cv=12)\n",
        "    cv_results_rms.append(cv_score)\n",
        "    print(\"%s: %f \" % (pipeline_dict[i], -1 * cv_score.mean()))"
      ],
      "metadata": {
        "execution": {
          "iopub.status.busy": "2022-04-24T05:07:33.926724Z",
          "iopub.execute_input": "2022-04-24T05:07:33.927187Z",
          "iopub.status.idle": "2022-04-24T05:11:20.282607Z",
          "shell.execute_reply.started": "2022-04-24T05:07:33.927156Z",
          "shell.execute_reply": "2022-04-24T05:11:20.28182Z"
        },
        "trusted": true,
        "id": "Jp94mNp4ZLr0"
      },
      "outputs": [],
      "execution_count": null
    },
    {
      "cell_type": "code",
      "source": [
        "# Model prediction on test data with XGBClassifier which gave us the least RMSE\n",
        "pred = pipeline_xgb.predict(X_test)\n",
        "print(\"R^2:\",metrics.r2_score(y_test, pred))\n",
        "print(\"Adjusted R^2:\",1 - (1-metrics.r2_score(y_test, pred))*(len(y_test)-1)/(len(y_test)-X_test.shape[1]-1))"
      ],
      "metadata": {
        "execution": {
          "iopub.status.busy": "2022-04-24T05:11:38.827644Z",
          "iopub.execute_input": "2022-04-24T05:11:38.828237Z",
          "iopub.status.idle": "2022-04-24T05:11:38.862928Z",
          "shell.execute_reply.started": "2022-04-24T05:11:38.828194Z",
          "shell.execute_reply": "2022-04-24T05:11:38.861839Z"
        },
        "trusted": true,
        "id": "VO9PFVN8ZLr3"
      },
      "outputs": [],
      "execution_count": null
    },
    {
      "cell_type": "markdown",
      "source": [
        "## **<span style=\"color:#682F2F;\">Great! We got 98.27% accuracy with it. We can take the model into production. </span>**\n",
        "\n",
        "![Notebook 2 end.jpg](attachment:91e1df4b-a46b-490f-bf40-5d8d38427590.jpg)\n"
      ],
      "metadata": {
        "id": "qrPTZvh9ZLr6"
      }
    },
    {
      "cell_type": "markdown",
      "source": [
        "\n",
        "\n",
        "<a id = \"title-six\"></a>\n",
        "<h1 style='background: #682F2F; border:0; border-radius: 10px; color:white'><center>END</center></h1>"
      ],
      "metadata": {
        "id": "og3jM4P9ZLr8"
      }
    }
  ]
}