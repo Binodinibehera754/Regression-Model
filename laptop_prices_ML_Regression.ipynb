{
  "metadata": {
    "kernelspec": {
      "language": "python",
      "display_name": "Python 3",
      "name": "python3"
    },
    "language_info": {
      "name": "python",
      "version": "3.10.12",
      "mimetype": "text/x-python",
      "codemirror_mode": {
        "name": "ipython",
        "version": 3
      },
      "pygments_lexer": "ipython3",
      "nbconvert_exporter": "python",
      "file_extension": ".py"
    },
    "kaggle": {
      "accelerator": "none",
      "dataSources": [
        {
          "sourceId": 10632398,
          "sourceType": "datasetVersion",
          "datasetId": 6582754
        }
      ],
      "dockerImageVersionId": 30918,
      "isInternetEnabled": true,
      "language": "python",
      "sourceType": "notebook",
      "isGpuEnabled": false
    },
    "colab": {
      "name": "laptop_prices.ML Regression",
      "provenance": [],
      "include_colab_link": true
    }
  },
  "nbformat_minor": 0,
  "nbformat": 4,
  "cells": [
    {
      "cell_type": "markdown",
      "metadata": {
        "id": "view-in-github",
        "colab_type": "text"
      },
      "source": [
        "<a href=\"https://colab.research.google.com/github/Binodinibehera754/Regression-Model/blob/main/laptop_prices_ML_Regression.ipynb\" target=\"_parent\"><img src=\"https://colab.research.google.com/assets/colab-badge.svg\" alt=\"Open In Colab\"/></a>"
      ]
    },
    {
      "source": [
        "# IMPORTANT: RUN THIS CELL IN ORDER TO IMPORT YOUR KAGGLE DATA SOURCES,\n",
        "# THEN FEEL FREE TO DELETE THIS CELL.\n",
        "# NOTE: THIS NOTEBOOK ENVIRONMENT DIFFERS FROM KAGGLE'S PYTHON\n",
        "# ENVIRONMENT SO THERE MAY BE MISSING LIBRARIES USED BY YOUR\n",
        "# NOTEBOOK.\n",
        "import kagglehub\n",
        "asinow_laptop_price_dataset_path = kagglehub.dataset_download('asinow/laptop-price-dataset')\n",
        "\n",
        "print('Data source import complete.')"
      ],
      "metadata": {
        "id": "PCZec7huM4d7"
      },
      "cell_type": "code",
      "outputs": [],
      "execution_count": null
    },
    {
      "cell_type": "markdown",
      "source": [
        "****"
      ],
      "metadata": {
        "id": "zxL7GTCfM4eE"
      }
    },
    {
      "cell_type": "markdown",
      "source": [
        "# Dataset Overview:"
      ],
      "metadata": {
        "id": "5qNNoQmjM4eK"
      }
    },
    {
      "cell_type": "markdown",
      "source": [
        "This dataset contains various features related to laptops, including Brand, TypeName, RAM, Memory, Battery, DisplaySize, and more. The target variable for predicting laptop prices is Price."
      ],
      "metadata": {
        "id": "yOG9ZlXhM4eM"
      }
    },
    {
      "cell_type": "code",
      "source": [
        "import numpy as np\n",
        "\n",
        "import pandas as pd\n",
        "\n",
        "import matplotlib.pyplot as plt\n",
        "\n",
        "import seaborn as sns\n",
        "\n",
        "from scipy.spatial import distance\n",
        "\n",
        "from sklearn.compose import ColumnTransformer\n",
        "\n",
        "from sklearn.pipeline import Pipeline\n",
        "\n",
        "from sklearn.preprocessing import StandardScaler\n",
        "\n",
        "from sklearn.preprocessing import StandardScaler, OneHotEncoder\n",
        "\n",
        "from sklearn.model_selection import train_test_split\n",
        "\n",
        "from sklearn.neighbors import KNeighborsRegressor\n",
        "\n",
        "from sklearn.ensemble import RandomForestRegressor\n",
        "\n",
        "from sklearn.linear_model import LinearRegression\n",
        "\n",
        "from sklearn.tree import DecisionTreeRegressor\n",
        "\n",
        "from sklearn.metrics import mean_squared_error, r2_score\n",
        "\n",
        "from sklearn.metrics import mean_absolute_error, mean_squared_error, r2_score\n",
        "\n",
        "import os\n",
        "for dirname, _, filenames in os.walk('/kaggle/input'):\n",
        "    for filename in filenames:\n",
        "        print(os.path.join(dirname, filename))"
      ],
      "metadata": {
        "trusted": true,
        "execution": {
          "iopub.status.busy": "2025-03-04T16:38:48.405098Z",
          "iopub.execute_input": "2025-03-04T16:38:48.405301Z",
          "iopub.status.idle": "2025-03-04T16:38:51.58009Z",
          "shell.execute_reply.started": "2025-03-04T16:38:48.405279Z",
          "shell.execute_reply": "2025-03-04T16:38:51.578578Z"
        },
        "id": "ZOhJfW6vM4eN",
        "outputId": "cb0de2a6-1a6c-44f6-ebc1-901c035201f5"
      },
      "outputs": [
        {
          "name": "stdout",
          "text": "/kaggle/input/laptop-price-dataset/laptop_prices.csv\n",
          "output_type": "stream"
        }
      ],
      "execution_count": null
    },
    {
      "cell_type": "markdown",
      "source": [
        "# 1. Data Preprocessing Steps:\n",
        "\n",
        "Loading the Dataset: The dataset is read from a CSV file and loaded into a Pandas DataFrame using:"
      ],
      "metadata": {
        "id": "_NVswVs-M4eV"
      }
    },
    {
      "cell_type": "code",
      "source": [
        "df = pd.read_csv(\"/kaggle/input/laptop-price-dataset/laptop_prices.csv\")\n",
        "\n",
        "df"
      ],
      "metadata": {
        "trusted": true,
        "execution": {
          "iopub.status.busy": "2025-03-04T16:38:51.581777Z",
          "iopub.execute_input": "2025-03-04T16:38:51.582314Z",
          "iopub.status.idle": "2025-03-04T16:38:51.659684Z",
          "shell.execute_reply.started": "2025-03-04T16:38:51.58228Z",
          "shell.execute_reply": "2025-03-04T16:38:51.658576Z"
        },
        "id": "6QtS5i6eM4eY",
        "outputId": "1a6ad47e-2f01-43ea-9088-653a5014ab33"
      },
      "outputs": [
        {
          "execution_count": 3,
          "output_type": "execute_result",
          "data": {
            "text/plain": "         Brand    Processor  RAM (GB)    Storage                 GPU  \\\n0        Apple  AMD Ryzen 3        64  512GB SSD     Nvidia GTX 1650   \n1        Razer  AMD Ryzen 7         4    1TB SSD     Nvidia RTX 3080   \n2         Asus     Intel i5        32    2TB SSD     Nvidia RTX 3060   \n3       Lenovo     Intel i5         4  256GB SSD     Nvidia RTX 3080   \n4        Razer     Intel i3         4  256GB SSD  AMD Radeon RX 6600   \n...        ...          ...       ...        ...                 ...   \n11763     Acer     Intel i3         4    2TB SSD     Nvidia RTX 2060   \n11764     Asus     Intel i3         4    2TB SSD  AMD Radeon RX 6800   \n11765    Razer  AMD Ryzen 9         4    2TB SSD  AMD Radeon RX 6600   \n11766  Samsung  AMD Ryzen 7        16  512GB SSD          Integrated   \n11767  Samsung     Intel i7         8  256GB SSD     Nvidia RTX 3080   \n\n       Screen Size (inch) Resolution  Battery Life (hours)  Weight (kg)  \\\n0                    17.3  2560x1440                   8.9         1.42   \n1                    14.0   1366x768                   9.4         2.57   \n2                    13.3  3840x2160                   8.5         1.74   \n3                    13.3   1366x768                  10.5         3.10   \n4                    16.0  3840x2160                   5.7         3.38   \n...                   ...        ...                   ...          ...   \n11763                17.3   1366x768                  11.5         1.58   \n11764                16.0   1366x768                   9.5         2.14   \n11765                15.6  2560x1440                   8.2         2.05   \n11766                13.3  1920x1080                   7.5         1.48   \n11767                17.3  2560x1440                   6.4         2.45   \n\n      Operating System  Price ($)  \n0              FreeDOS    3997.07  \n1                Linux    1355.78  \n2              FreeDOS    2673.07  \n3              Windows     751.17  \n4                Linux    2059.83  \n...                ...        ...  \n11763            macOS     704.82  \n11764            Linux     775.59  \n11765            Linux    2789.46  \n11766            macOS    1067.13  \n11767          FreeDOS    1579.55  \n\n[11768 rows x 11 columns]",
            "text/html": "<div>\n<style scoped>\n    .dataframe tbody tr th:only-of-type {\n        vertical-align: middle;\n    }\n\n    .dataframe tbody tr th {\n        vertical-align: top;\n    }\n\n    .dataframe thead th {\n        text-align: right;\n    }\n</style>\n<table border=\"1\" class=\"dataframe\">\n  <thead>\n    <tr style=\"text-align: right;\">\n      <th></th>\n      <th>Brand</th>\n      <th>Processor</th>\n      <th>RAM (GB)</th>\n      <th>Storage</th>\n      <th>GPU</th>\n      <th>Screen Size (inch)</th>\n      <th>Resolution</th>\n      <th>Battery Life (hours)</th>\n      <th>Weight (kg)</th>\n      <th>Operating System</th>\n      <th>Price ($)</th>\n    </tr>\n  </thead>\n  <tbody>\n    <tr>\n      <th>0</th>\n      <td>Apple</td>\n      <td>AMD Ryzen 3</td>\n      <td>64</td>\n      <td>512GB SSD</td>\n      <td>Nvidia GTX 1650</td>\n      <td>17.3</td>\n      <td>2560x1440</td>\n      <td>8.9</td>\n      <td>1.42</td>\n      <td>FreeDOS</td>\n      <td>3997.07</td>\n    </tr>\n    <tr>\n      <th>1</th>\n      <td>Razer</td>\n      <td>AMD Ryzen 7</td>\n      <td>4</td>\n      <td>1TB SSD</td>\n      <td>Nvidia RTX 3080</td>\n      <td>14.0</td>\n      <td>1366x768</td>\n      <td>9.4</td>\n      <td>2.57</td>\n      <td>Linux</td>\n      <td>1355.78</td>\n    </tr>\n    <tr>\n      <th>2</th>\n      <td>Asus</td>\n      <td>Intel i5</td>\n      <td>32</td>\n      <td>2TB SSD</td>\n      <td>Nvidia RTX 3060</td>\n      <td>13.3</td>\n      <td>3840x2160</td>\n      <td>8.5</td>\n      <td>1.74</td>\n      <td>FreeDOS</td>\n      <td>2673.07</td>\n    </tr>\n    <tr>\n      <th>3</th>\n      <td>Lenovo</td>\n      <td>Intel i5</td>\n      <td>4</td>\n      <td>256GB SSD</td>\n      <td>Nvidia RTX 3080</td>\n      <td>13.3</td>\n      <td>1366x768</td>\n      <td>10.5</td>\n      <td>3.10</td>\n      <td>Windows</td>\n      <td>751.17</td>\n    </tr>\n    <tr>\n      <th>4</th>\n      <td>Razer</td>\n      <td>Intel i3</td>\n      <td>4</td>\n      <td>256GB SSD</td>\n      <td>AMD Radeon RX 6600</td>\n      <td>16.0</td>\n      <td>3840x2160</td>\n      <td>5.7</td>\n      <td>3.38</td>\n      <td>Linux</td>\n      <td>2059.83</td>\n    </tr>\n    <tr>\n      <th>...</th>\n      <td>...</td>\n      <td>...</td>\n      <td>...</td>\n      <td>...</td>\n      <td>...</td>\n      <td>...</td>\n      <td>...</td>\n      <td>...</td>\n      <td>...</td>\n      <td>...</td>\n      <td>...</td>\n    </tr>\n    <tr>\n      <th>11763</th>\n      <td>Acer</td>\n      <td>Intel i3</td>\n      <td>4</td>\n      <td>2TB SSD</td>\n      <td>Nvidia RTX 2060</td>\n      <td>17.3</td>\n      <td>1366x768</td>\n      <td>11.5</td>\n      <td>1.58</td>\n      <td>macOS</td>\n      <td>704.82</td>\n    </tr>\n    <tr>\n      <th>11764</th>\n      <td>Asus</td>\n      <td>Intel i3</td>\n      <td>4</td>\n      <td>2TB SSD</td>\n      <td>AMD Radeon RX 6800</td>\n      <td>16.0</td>\n      <td>1366x768</td>\n      <td>9.5</td>\n      <td>2.14</td>\n      <td>Linux</td>\n      <td>775.59</td>\n    </tr>\n    <tr>\n      <th>11765</th>\n      <td>Razer</td>\n      <td>AMD Ryzen 9</td>\n      <td>4</td>\n      <td>2TB SSD</td>\n      <td>AMD Radeon RX 6600</td>\n      <td>15.6</td>\n      <td>2560x1440</td>\n      <td>8.2</td>\n      <td>2.05</td>\n      <td>Linux</td>\n      <td>2789.46</td>\n    </tr>\n    <tr>\n      <th>11766</th>\n      <td>Samsung</td>\n      <td>AMD Ryzen 7</td>\n      <td>16</td>\n      <td>512GB SSD</td>\n      <td>Integrated</td>\n      <td>13.3</td>\n      <td>1920x1080</td>\n      <td>7.5</td>\n      <td>1.48</td>\n      <td>macOS</td>\n      <td>1067.13</td>\n    </tr>\n    <tr>\n      <th>11767</th>\n      <td>Samsung</td>\n      <td>Intel i7</td>\n      <td>8</td>\n      <td>256GB SSD</td>\n      <td>Nvidia RTX 3080</td>\n      <td>17.3</td>\n      <td>2560x1440</td>\n      <td>6.4</td>\n      <td>2.45</td>\n      <td>FreeDOS</td>\n      <td>1579.55</td>\n    </tr>\n  </tbody>\n</table>\n<p>11768 rows × 11 columns</p>\n</div>"
          },
          "metadata": {}
        }
      ],
      "execution_count": null
    },
    {
      "cell_type": "code",
      "source": [
        "df.head()"
      ],
      "metadata": {
        "trusted": true,
        "execution": {
          "iopub.status.busy": "2025-02-25T11:59:52.78127Z",
          "iopub.execute_input": "2025-02-25T11:59:52.781559Z",
          "iopub.status.idle": "2025-02-25T11:59:52.797479Z",
          "shell.execute_reply.started": "2025-02-25T11:59:52.781535Z",
          "shell.execute_reply": "2025-02-25T11:59:52.79631Z"
        },
        "id": "Y66qTajBM4eb"
      },
      "outputs": [],
      "execution_count": null
    },
    {
      "cell_type": "markdown",
      "source": [
        "# 2.Handling Missing Values:\n",
        "\n",
        "* Check for any missing values in the dataset\n",
        "\n",
        "* If any missing values exist, they can be handled by either filling them with appropriate values or dropping the rows/columns."
      ],
      "metadata": {
        "id": "9Fh2jUCwM4ed"
      }
    },
    {
      "cell_type": "code",
      "source": [
        "df.isnull().sum()"
      ],
      "metadata": {
        "trusted": true,
        "execution": {
          "iopub.status.busy": "2025-03-04T16:39:01.504113Z",
          "iopub.execute_input": "2025-03-04T16:39:01.504456Z",
          "iopub.status.idle": "2025-03-04T16:39:01.519038Z",
          "shell.execute_reply.started": "2025-03-04T16:39:01.504435Z",
          "shell.execute_reply": "2025-03-04T16:39:01.51779Z"
        },
        "id": "dBy6gwcBM4ef",
        "outputId": "30adc0e4-f2b7-428f-d6e4-87be971da3a0"
      },
      "outputs": [
        {
          "execution_count": 4,
          "output_type": "execute_result",
          "data": {
            "text/plain": "Brand                   0\nProcessor               0\nRAM (GB)                0\nStorage                 0\nGPU                     0\nScreen Size (inch)      0\nResolution              0\nBattery Life (hours)    0\nWeight (kg)             0\nOperating System        0\nPrice ($)               0\ndtype: int64"
          },
          "metadata": {}
        }
      ],
      "execution_count": null
    },
    {
      "cell_type": "markdown",
      "source": [
        "# 3. Summary Statistics:\n",
        "\n",
        "\n",
        "* Display summary statistics (mean, standard deviation, min, max, etc.) of the dataset:"
      ],
      "metadata": {
        "id": "_iYEGIFvM4ei"
      }
    },
    {
      "cell_type": "code",
      "source": [
        "df.describe()"
      ],
      "metadata": {
        "trusted": true,
        "execution": {
          "iopub.status.busy": "2025-03-04T16:39:19.278198Z",
          "iopub.execute_input": "2025-03-04T16:39:19.278492Z",
          "iopub.status.idle": "2025-03-04T16:39:19.303839Z",
          "shell.execute_reply.started": "2025-03-04T16:39:19.27847Z",
          "shell.execute_reply": "2025-03-04T16:39:19.302825Z"
        },
        "id": "rAzzkWnSM4ek",
        "outputId": "1d18f4a3-7f16-44dd-b652-544ec1ea8828"
      },
      "outputs": [
        {
          "execution_count": 5,
          "output_type": "execute_result",
          "data": {
            "text/plain": "           RAM (GB)  Screen Size (inch)  Battery Life (hours)   Weight (kg)  \\\ncount  11768.000000        11768.000000          11768.000000  11768.000000   \nmean      24.852821           15.212305              8.027855      2.341117   \nstd       21.762567            1.436997              2.305400      0.667921   \nmin        4.000000           13.300000              4.000000      1.200000   \n25%        8.000000           14.000000              6.000000      1.760000   \n50%       16.000000           15.600000              8.000000      2.340000   \n75%       32.000000           16.000000             10.000000      2.910000   \nmax       64.000000           17.300000             12.000000      3.500000   \n\n          Price ($)  \ncount  11768.000000  \nmean    2183.571608  \nstd     1316.886132  \nmin      279.570000  \n25%     1272.045000  \n50%     1840.865000  \n75%     2698.370000  \nmax    10807.880000  ",
            "text/html": "<div>\n<style scoped>\n    .dataframe tbody tr th:only-of-type {\n        vertical-align: middle;\n    }\n\n    .dataframe tbody tr th {\n        vertical-align: top;\n    }\n\n    .dataframe thead th {\n        text-align: right;\n    }\n</style>\n<table border=\"1\" class=\"dataframe\">\n  <thead>\n    <tr style=\"text-align: right;\">\n      <th></th>\n      <th>RAM (GB)</th>\n      <th>Screen Size (inch)</th>\n      <th>Battery Life (hours)</th>\n      <th>Weight (kg)</th>\n      <th>Price ($)</th>\n    </tr>\n  </thead>\n  <tbody>\n    <tr>\n      <th>count</th>\n      <td>11768.000000</td>\n      <td>11768.000000</td>\n      <td>11768.000000</td>\n      <td>11768.000000</td>\n      <td>11768.000000</td>\n    </tr>\n    <tr>\n      <th>mean</th>\n      <td>24.852821</td>\n      <td>15.212305</td>\n      <td>8.027855</td>\n      <td>2.341117</td>\n      <td>2183.571608</td>\n    </tr>\n    <tr>\n      <th>std</th>\n      <td>21.762567</td>\n      <td>1.436997</td>\n      <td>2.305400</td>\n      <td>0.667921</td>\n      <td>1316.886132</td>\n    </tr>\n    <tr>\n      <th>min</th>\n      <td>4.000000</td>\n      <td>13.300000</td>\n      <td>4.000000</td>\n      <td>1.200000</td>\n      <td>279.570000</td>\n    </tr>\n    <tr>\n      <th>25%</th>\n      <td>8.000000</td>\n      <td>14.000000</td>\n      <td>6.000000</td>\n      <td>1.760000</td>\n      <td>1272.045000</td>\n    </tr>\n    <tr>\n      <th>50%</th>\n      <td>16.000000</td>\n      <td>15.600000</td>\n      <td>8.000000</td>\n      <td>2.340000</td>\n      <td>1840.865000</td>\n    </tr>\n    <tr>\n      <th>75%</th>\n      <td>32.000000</td>\n      <td>16.000000</td>\n      <td>10.000000</td>\n      <td>2.910000</td>\n      <td>2698.370000</td>\n    </tr>\n    <tr>\n      <th>max</th>\n      <td>64.000000</td>\n      <td>17.300000</td>\n      <td>12.000000</td>\n      <td>3.500000</td>\n      <td>10807.880000</td>\n    </tr>\n  </tbody>\n</table>\n</div>"
          },
          "metadata": {}
        }
      ],
      "execution_count": null
    },
    {
      "cell_type": "markdown",
      "source": [
        "# 4. Data Preprocessing Steps:"
      ],
      "metadata": {
        "id": "mXQB5uZwM4en"
      }
    },
    {
      "cell_type": "code",
      "source": [
        "numeric_df = df.select_dtypes(include=[\"number\"])\n",
        "\n",
        "plt.figure(figsize=(12, 6))\n",
        "\n",
        "sns.heatmap(numeric_df.corr(), annot=True, cmap=\"coolwarm\", fmt=\".2f\")\n",
        "\n",
        "plt.title(\"Correlation Heatmap of Numerical Features in Laptop Dataset\", fontsize=14)\n",
        "\n",
        "plt.show()"
      ],
      "metadata": {
        "trusted": true,
        "execution": {
          "iopub.status.busy": "2025-03-04T16:40:11.529595Z",
          "iopub.execute_input": "2025-03-04T16:40:11.529972Z",
          "iopub.status.idle": "2025-03-04T16:40:11.763718Z",
          "shell.execute_reply.started": "2025-03-04T16:40:11.529946Z",
          "shell.execute_reply": "2025-03-04T16:40:11.76192Z"
        },
        "id": "VAevFrcJM4eo",
        "outputId": "0142f0b9-9d13-4680-ef01-c8652a35e727"
      },
      "outputs": [
        {
          "output_type": "display_data",
          "data": {
            "text/plain": "<Figure size 1200x600 with 2 Axes>",
            "image/png": "[encoded data removed]"
          },
          "metadata": {}
        }
      ],
      "execution_count": null
    },
    {
      "cell_type": "markdown",
      "source": [
        "# 5. Splitting the Dataset:\n",
        "\n",
        "The dataset can be split into training and testing sets, typically with an 80-20 ratio:"
      ],
      "metadata": {
        "id": "1EcJjx-MM4er"
      }
    },
    {
      "cell_type": "code",
      "source": [
        "X = df.drop(columns=[\"Price ($)\"])\n",
        "\n",
        "y = df[\"Price ($)\"]"
      ],
      "metadata": {
        "trusted": true,
        "execution": {
          "iopub.status.busy": "2025-02-25T11:59:53.195649Z",
          "iopub.execute_input": "2025-02-25T11:59:53.196047Z",
          "iopub.status.idle": "2025-02-25T11:59:53.202491Z",
          "shell.execute_reply.started": "2025-02-25T11:59:53.196006Z",
          "shell.execute_reply": "2025-02-25T11:59:53.201475Z"
        },
        "id": "dLxqvXIGM4et"
      },
      "outputs": [],
      "execution_count": null
    },
    {
      "cell_type": "code",
      "source": [
        "categorical_cols = X.select_dtypes(include=['object']).columns\n",
        "\n",
        "numerical_cols = X.select_dtypes(include=['int64', 'float64']).columns"
      ],
      "metadata": {
        "trusted": true,
        "execution": {
          "iopub.status.busy": "2025-02-25T11:59:53.203776Z",
          "iopub.execute_input": "2025-02-25T11:59:53.204079Z",
          "iopub.status.idle": "2025-02-25T11:59:53.221356Z",
          "shell.execute_reply.started": "2025-02-25T11:59:53.204053Z",
          "shell.execute_reply": "2025-02-25T11:59:53.220323Z"
        },
        "id": "7j49KudWM4ev"
      },
      "outputs": [],
      "execution_count": null
    },
    {
      "cell_type": "code",
      "source": [
        "preprocessor = ColumnTransformer(\n",
        "    transformers=[\n",
        "        ('num', StandardScaler(), numerical_cols),\n",
        "        ('cat', OneHotEncoder(), categorical_cols)\n",
        "    ])\n"
      ],
      "metadata": {
        "trusted": true,
        "execution": {
          "iopub.status.busy": "2025-02-25T11:59:53.223874Z",
          "iopub.execute_input": "2025-02-25T11:59:53.224253Z",
          "iopub.status.idle": "2025-02-25T11:59:53.239682Z",
          "shell.execute_reply.started": "2025-02-25T11:59:53.224224Z",
          "shell.execute_reply": "2025-02-25T11:59:53.238456Z"
        },
        "id": "AIvvnid_M4ex"
      },
      "outputs": [],
      "execution_count": null
    },
    {
      "cell_type": "code",
      "source": [
        "X_train, X_test, y_train, y_test = train_test_split(X, y, test_size=0.2, random_state=42)\n",
        "\n",
        "print(f\"Training Data Shape: {X_train.shape}, Testing Data Shape: {X_test.shape}\")"
      ],
      "metadata": {
        "trusted": true,
        "execution": {
          "iopub.status.busy": "2025-02-25T11:59:53.24128Z",
          "iopub.execute_input": "2025-02-25T11:59:53.241569Z",
          "iopub.status.idle": "2025-02-25T11:59:53.261898Z",
          "shell.execute_reply.started": "2025-02-25T11:59:53.241545Z",
          "shell.execute_reply": "2025-02-25T11:59:53.260903Z"
        },
        "id": "sqxKAzxEM4e0"
      },
      "outputs": [],
      "execution_count": null
    },
    {
      "cell_type": "code",
      "source": [
        "scaler = StandardScaler()\n",
        "\n",
        "X_train_scaled = preprocessor.fit_transform(X_train)\n",
        "\n",
        "X_test_scaled = preprocessor.transform(X_test)"
      ],
      "metadata": {
        "trusted": true,
        "execution": {
          "iopub.status.busy": "2025-02-25T11:59:53.262888Z",
          "iopub.execute_input": "2025-02-25T11:59:53.263187Z",
          "iopub.status.idle": "2025-02-25T11:59:53.315443Z",
          "shell.execute_reply.started": "2025-02-25T11:59:53.263161Z",
          "shell.execute_reply": "2025-02-25T11:59:53.314287Z"
        },
        "id": "MZ7fKlpPM4e2"
      },
      "outputs": [],
      "execution_count": null
    },
    {
      "cell_type": "markdown",
      "source": [
        "# 6. Model Training and Evaluation:"
      ],
      "metadata": {
        "id": "HGKGKtxTM4e4"
      }
    },
    {
      "cell_type": "code",
      "source": [
        "models = {\n",
        "    \"Linear Regression\": LinearRegression(),\n",
        "    \"Random Forest\": RandomForestRegressor(n_estimators=100, random_state=42),\n",
        "    \"KNN Regression\": KNeighborsRegressor(n_neighbors=5),\n",
        "    \"Decision Tree\": DecisionTreeRegressor(random_state=42)\n",
        "}\n",
        "\n",
        "for name, model in models.items():\n",
        "    model.fit(X_train_scaled, y_train)\n",
        "    y_pred = model.predict(X_test_scaled)\n",
        "\n",
        "    rmse = mean_squared_error(y_test, y_pred, squared=False)\n",
        "    r2 = r2_score(y_test, y_pred)\n",
        "\n",
        "    print(f\"📌 {name} Performance:\")\n",
        "    print(f\"   - RMSE: {rmse:.2f}\")\n",
        "    print(f\"   - R² Score: {r2:.2f}\")\n",
        "    print(\"-\" * 40)"
      ],
      "metadata": {
        "trusted": true,
        "execution": {
          "iopub.status.busy": "2025-02-25T11:59:53.316744Z",
          "iopub.execute_input": "2025-02-25T11:59:53.317139Z",
          "iopub.status.idle": "2025-02-25T12:00:36.078217Z",
          "shell.execute_reply.started": "2025-02-25T11:59:53.317088Z",
          "shell.execute_reply": "2025-02-25T12:00:36.077087Z"
        },
        "id": "I-X8DV2tM4e5"
      },
      "outputs": [],
      "execution_count": null
    },
    {
      "cell_type": "markdown",
      "source": [
        "# Output:\n",
        "This code evaluates and displays the performance of four regression models:\n",
        "\n",
        "\n",
        "1. Linear Regression\n",
        "2. Random Forest Regressor\n",
        "3. KNN Regressor\n",
        "4. Decision Tree Regressor\n",
        "\n",
        "For each model, it calculates the Root Mean Squared Error (RMSE) and the R-squared (R²) Score, printing them for comparison."
      ],
      "metadata": {
        "id": "kErJIwX7M4e_"
      }
    },
    {
      "cell_type": "markdown",
      "source": [
        "# 7. Model Evaluation with Additional Metrics:"
      ],
      "metadata": {
        "id": "_8koXSvOM4fB"
      }
    },
    {
      "cell_type": "code",
      "source": [
        "mae = mean_absolute_error(y_test, y_pred)\n",
        "rmse = np.sqrt(mean_squared_error(y_test, y_pred))\n",
        "r2 = r2_score(y_test, y_pred)\n",
        "\n",
        "print(f\"\\n📌 {name} Performance:\")\n",
        "print(f\"Mean Absolute Error (MAE): {mae:.2f}\")\n",
        "print(f\"Root Mean Squared Error (RMSE): {rmse:.2f}\")\n",
        "print(f\"R² Score: {r2:.2f}\")\n",
        "print(\"-\" * 40)# 4. Final Model Selection and Prediction:"
      ],
      "metadata": {
        "trusted": true,
        "execution": {
          "iopub.status.busy": "2025-02-25T12:00:36.079301Z",
          "iopub.execute_input": "2025-02-25T12:00:36.079567Z",
          "iopub.status.idle": "2025-02-25T12:00:36.09119Z",
          "shell.execute_reply.started": "2025-02-25T12:00:36.079545Z",
          "shell.execute_reply": "2025-02-25T12:00:36.089893Z"
        },
        "id": "wiP1YlzJM4fC"
      },
      "outputs": [],
      "execution_count": null
    },
    {
      "cell_type": "markdown",
      "source": [
        "**Output:**\n",
        "\n",
        "For each model, this code calculates and prints:\n",
        "\n",
        "\n",
        "* Mean Absolute Error (MAE): The average magnitude of errors in predictions.\n",
        "\n",
        "* Root Mean Squared Error (RMSE): The square root of the average squared differences between the predicted and actual values.\n",
        "\n",
        "* R-squared (R²) Score: A statistical measure that explains the proportion of the variance in the dependent variable that is predictable from the independent variables\n"
      ],
      "metadata": {
        "id": "sAeIj7HJM4fF"
      }
    },
    {
      "cell_type": "markdown",
      "source": [
        "# 8. Actual vs Predicted Price Comparison:"
      ],
      "metadata": {
        "id": "20wzqjVrM4fG"
      }
    },
    {
      "cell_type": "code",
      "source": [
        "best_model = models[\"Random Forest\"]\n",
        "\n",
        "predicted_prices = best_model.predict(X_test_scaled)\n",
        "\n",
        "actual_values = y_test.values[:10]\n",
        "predicted_values = predicted_prices[:10]\n",
        "\n",
        "comparison_df = pd.DataFrame({\"Actual Price\": actual_values, \"Predicted Price\": predicted_values})\n",
        "print(\"\\nActual vs Predicted Prices:\")\n",
        "print(comparison_df)\n",
        "\n",
        "sample_instance = X_test_scaled[0].reshape(1, -1)\n",
        "predicted_price = best_model.predict(sample_instance)\n",
        "\n",
        "print(f\"\\nPredicted Price for the Given Features: ${predicted_price[0]:.2f}\")"
      ],
      "metadata": {
        "trusted": true,
        "execution": {
          "iopub.status.busy": "2025-02-25T12:00:36.092042Z",
          "iopub.execute_input": "2025-02-25T12:00:36.092449Z",
          "iopub.status.idle": "2025-02-25T12:00:36.196306Z",
          "shell.execute_reply.started": "2025-02-25T12:00:36.092421Z",
          "shell.execute_reply": "2025-02-25T12:00:36.195262Z"
        },
        "id": "680_dFwLM4fI"
      },
      "outputs": [],
      "execution_count": null
    },
    {
      "cell_type": "markdown",
      "source": [
        "**Output:**\n",
        "\n",
        "\n",
        "1. Actual vs Predicted Prices (for first 10 instances): The code prints a DataFrame that compares the Actual Price from the test set with the Predicted Price for the first 10 test samples.\n",
        "\n",
        "2. Predicted Price for a Single Instance: The code predicts the price for the first sample instance from the test set and prints the predicted pric\n"
      ],
      "metadata": {
        "id": "qLzKCYZ-M4fJ"
      }
    },
    {
      "cell_type": "markdown",
      "source": [
        "# 9. Price Prediction Using Euclidean Distance:"
      ],
      "metadata": {
        "id": "ZdK7FkRRM4fL"
      }
    },
    {
      "cell_type": "code",
      "source": [
        "import numpy as np\n",
        "import pandas as pd\n",
        "\n",
        "# Load the dataset\n",
        "df = pd.read_csv(\"/kaggle/input/laptop-price-dataset/laptop_prices.csv\")\n",
        "\n",
        "# Define the actual feature values for the laptop\n",
        "numeric_cols = [\"RAM (GB)\", \"Storage\", \"Screen Size (inch)\", \"Battery Life (hours)\", \"Weight (kg)\", \"Resolution\"]\n",
        "\n",
        "# Define the actual feature values for the laptop\n",
        "actual_values = np.array([numeric_cols == [\"RAM (GB)\", \"Storage\", \"Screen Size (inch)\", \"Battery Life (hours)\", \"Weight (kg)\", \"Resolution\"]\n",
        "]).reshape(1, -1)\n",
        "\n",
        "# Keep only numeric columns (excluding 'Price ($)' before computing distances)\n",
        "numeric_cols = df.select_dtypes(include=[np.number]).columns.tolist()\n",
        "numeric_cols.remove(\"Price ($)\")  # Ensure 'Price ($)' is not included\n",
        "\n",
        "# Compute the Euclidean distance between the actual values and all rows in the dataset\n",
        "df[\"distance\"] = np.linalg.norm(df[numeric_cols].values - actual_values, axis=1)\n",
        "\n",
        "# Find the row with the smallest distance (the closest match)\n",
        "closest_row = df.loc[df[\"distance\"].idxmin()]\n",
        "\n",
        "# Get the actual price for the closest match\n",
        "actual_price = closest_row[\"Price ($)\"]\n",
        "print(f\"\\nActual Price for the Given Features: ${actual_price:.2f}\")"
      ],
      "metadata": {
        "trusted": true,
        "execution": {
          "iopub.status.busy": "2025-02-25T12:00:36.197397Z",
          "iopub.execute_input": "2025-02-25T12:00:36.197684Z",
          "iopub.status.idle": "2025-02-25T12:00:36.236804Z",
          "shell.execute_reply.started": "2025-02-25T12:00:36.19766Z",
          "shell.execute_reply": "2025-02-25T12:00:36.235567Z"
        },
        "id": "YhZUCpL2M4fN"
      },
      "outputs": [],
      "execution_count": null
    },
    {
      "cell_type": "code",
      "source": [
        "import numpy as np\n",
        "import pandas as pd\n",
        "\n",
        "# Load the dataset\n",
        "df = pd.read_csv(\"/kaggle/input/laptop-price-dataset/laptop_prices.csv\")\n",
        "\n",
        "# Define the actual feature values for the laptop\n",
        "actual_values = np.array([numeric_cols == [\"RAM (GB)\", \"Storage\", \"Screen Size (inch)\", \"Battery Life (hours)\", \"Weight (kg)\", \"Resolution\"]\n",
        "]).reshape(1, -1)\n",
        "\n",
        "# Keep only numeric columns (excluding 'Price ($)' before computing distances)\n",
        "numeric_cols = df.select_dtypes(include=[np.number]).columns.tolist()\n",
        "numeric_cols.remove(\"Price ($)\")  # Ensure 'Price ($)' is not included\n",
        "\n",
        "# Compute the Euclidean distance between the actual values and all rows in the dataset\n",
        "df[\"distance\"] = np.linalg.norm(df[numeric_cols].values - actual_values, axis=1)\n",
        "\n",
        "# Find the row with the smallest distance (the closest match)\n",
        "closest_row = df.loc[df[\"distance\"].idxmin()]\n",
        "\n",
        "# Get the actual price for the closest match\n",
        "actual_price = closest_row[\"Price ($)\"]\n",
        "print(f\"\\nActual Price for the Given Features: ${actual_price:.2f}\")\n"
      ],
      "metadata": {
        "trusted": true,
        "execution": {
          "iopub.status.busy": "2025-02-25T12:00:36.237908Z",
          "iopub.execute_input": "2025-02-25T12:00:36.238254Z",
          "iopub.status.idle": "2025-02-25T12:00:36.274631Z",
          "shell.execute_reply.started": "2025-02-25T12:00:36.238228Z",
          "shell.execute_reply": "2025-02-25T12:00:36.273474Z"
        },
        "id": "QSSzcPk6M4fP"
      },
      "outputs": [],
      "execution_count": null
    },
    {
      "cell_type": "markdown",
      "source": [
        "**Explanation of Output:**\n",
        "\n",
        "* Euclidean Distance Calculation: The code computes the Euclidean distance between the given laptop's feature values (actual_values) and all the rows in the dataset. The features in the dataset (like RAM, Storage, etc.) are numeric values, and the distance is computed using the formula:\n",
        "\n",
        "distance\n",
        "=\n",
        "∑\n",
        "𝑖\n",
        "=\n",
        "1\n",
        "𝑛\n",
        "(\n",
        "𝑥\n",
        "𝑖\n",
        "−\n",
        "𝑦\n",
        "𝑖\n",
        ")\n",
        "2\n",
        "distance=\n",
        "i=1\n",
        "∑\n",
        "n\n",
        "​\n",
        " (x\n",
        "i\n",
        "​\n",
        " −y\n",
        "i\n",
        "​\n",
        " )\n",
        "2\n",
        "\n",
        "​\n",
        "\n",
        "Where x_i are the features of the actual laptop and y_i are the features from each row in the dataset.\n",
        "\n",
        "\n",
        "* Finding the Closest Match: The row with the smallest distance (i.e., the most similar laptop) is found using df[\"distance\"].idxmin(). This will return the index of the row with the closest match.\n",
        "\n",
        "* Output: The code retrieves the actual price of the closest matching laptop based on the computed distance and prints it.\n"
      ],
      "metadata": {
        "id": "my1kxa0-M4fQ"
      }
    },
    {
      "cell_type": "markdown",
      "source": [
        "# 10. Laptop Price Comparison (Final Prediction):"
      ],
      "metadata": {
        "id": "3AhXARY9M4fT"
      }
    },
    {
      "cell_type": "code",
      "source": [
        "import numpy as np\n",
        "import pandas as pd\n",
        "import re\n",
        "from sklearn.ensemble import RandomForestRegressor\n",
        "from sklearn.model_selection import train_test_split\n",
        "from sklearn.preprocessing import StandardScaler\n",
        "\n",
        "# Load the dataset\n",
        "df = pd.read_csv(\"/kaggle/input/laptop-price-dataset/laptop_prices.csv\")\n",
        "\n",
        "# Function to convert storage values to numeric GB\n",
        "def convert_storage(storage):\n",
        "    if isinstance(storage, str):\n",
        "        num = re.findall(r'\\d+', storage)\n",
        "        if num:\n",
        "            value = float(num[0])\n",
        "            if \"TB\" in storage:\n",
        "                return value * 1000  # Convert TB to GB\n",
        "            return value  # Keep GB as is\n",
        "    return np.nan\n",
        "\n",
        "# Function to convert resolution to total pixels\n",
        "def convert_resolution(res):\n",
        "    try:\n",
        "        width, height = map(int, res.split(\"x\"))\n",
        "        return width * height  # Total pixel count\n",
        "    except:\n",
        "        return np.nan\n",
        "\n",
        "# Apply conversion functions\n",
        "df[\"Storage\"] = df[\"Storage\"].apply(convert_storage)\n",
        "df[\"Resolution\"] = df[\"Resolution\"].apply(convert_resolution)\n",
        "\n",
        "# Selecting numeric columns\n",
        "numeric_cols = [\"RAM (GB)\", \"Storage\", \"Screen Size (inch)\", \"Battery Life (hours)\", \"Weight (kg)\", \"Resolution\"]\n",
        "\n",
        "# Handle missing values by filling with column mean\n",
        "df[numeric_cols] = df[numeric_cols].fillna(df[numeric_cols].mean())\n",
        "\n",
        "# Define the actual feature values for the laptop (Example values)\n",
        "actual_values = np.array([64, 512, 17.3, 8.9, 1.42, 2560 * 1440]).reshape(1, -1)  # Replace with actual values\n",
        "\n",
        "# Compute the Euclidean distance between the actual values and all rows in the dataset\n",
        "df[\"distance\"] = np.sqrt(np.sum((df[numeric_cols].values - actual_values) ** 2, axis=1))\n",
        "\n",
        "# Find the row with the smallest distance (the closest match)\n",
        "closest_row = df.loc[df[\"distance\"].idxmin()]\n",
        "\n",
        "# Get the actual price for the closest match\n",
        "actual_price = closest_row[\"Price ($)\"]\n",
        "\n",
        "# Prepare the dataset for model training\n",
        "X = df[numeric_cols]  # Features\n",
        "y = df[\"Price ($)\"]   # Target variable\n",
        "\n",
        "# Train-test split\n",
        "X_train, X_test, y_train, y_test = train_test_split(X, y, test_size=0.2, random_state=42)\n",
        "\n",
        "# Standardize features\n",
        "scaler = StandardScaler()\n",
        "X_train_scaled = scaler.fit_transform(X_train)\n",
        "X_test_scaled = scaler.transform(X_test)\n",
        "actual_values_scaled = scaler.transform(actual_values)  # Scale the input values\n",
        "\n",
        "# Train a Random Forest model\n",
        "rf_model = RandomForestRegressor(n_estimators=100, random_state=42)\n",
        "rf_model.fit(X_train_scaled, y_train)\n",
        "\n",
        "# Predict the price using the trained model\n",
        "predicted_price = rf_model.predict(actual_values_scaled)\n",
        "\n",
        "# Print Actual and Predicted Price together\n",
        "print(\"\\n📌 **Laptop Price Comparison**\")\n",
        "print(f\"✅ Actual Price (Closest Match)  : ${actual_price:.2f}\")\n",
        "print(f\"🎯 Predicted Price (ML Model)   : ${predicted_price[0]:.2f}\")\n"
      ],
      "metadata": {
        "trusted": true,
        "execution": {
          "iopub.status.busy": "2025-02-25T12:00:36.275785Z",
          "iopub.execute_input": "2025-02-25T12:00:36.27619Z",
          "iopub.status.idle": "2025-02-25T12:00:38.899998Z",
          "shell.execute_reply.started": "2025-02-25T12:00:36.276153Z",
          "shell.execute_reply": "2025-02-25T12:00:38.898735Z"
        },
        "id": "R2xet1L4M4fU"
      },
      "outputs": [],
      "execution_count": null
    },
    {
      "cell_type": "markdown",
      "source": [
        "**Output:**\n",
        "\n",
        "This code performs the following steps:\n",
        "\n",
        "1. Preprocessing:\n",
        "\n",
        "* Converts storage values to GB.\n",
        "\n",
        "* Converts the resolution to total pixel count.\n",
        "\n",
        "* Handles missing values by filling them with the mean of the respective columns.\n",
        "\n",
        "2. Distance Calculation:\n",
        "\n",
        "* It calculates the Euclidean distance between the given laptop feature values and the rest of the dataset to find the closest match.\n",
        "\n",
        "3. Model Training:\n",
        "\n",
        "* A Random Forest Regressor is trained using the training data after scaling the features.\n",
        "\n",
        "4. Price Prediction:\n",
        "\n",
        "* The price for the closest match is found using the Euclidean distance.\n",
        "\n",
        "* The model then predicts the price based on the input values.\n"
      ],
      "metadata": {
        "id": "e-dPKCXyM4fX"
      }
    }
  ]
}